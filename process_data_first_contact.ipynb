{
 "cells": [
  {
   "cell_type": "code",
   "execution_count": 1,
   "metadata": {},
   "outputs": [],
   "source": [
    "import pandas as pd\n",
    "import numpy as np\n",
    "import math\n",
    "import pickle\n",
    "from sklearn.model_selection import train_test_split"
   ]
  },
  {
   "cell_type": "code",
   "execution_count": 2,
   "metadata": {},
   "outputs": [],
   "source": [
    "df_track_2020 = pd.read_csv(\"data_sets/tracking2020.csv\")\n",
    "df_track_2019 = pd.read_csv(\"data_sets/tracking2019.csv\")\n",
    "df_track_2018 = pd.read_csv(\"data_sets/tracking2018.csv\")"
   ]
  },
  {
   "cell_type": "code",
   "execution_count": 3,
   "metadata": {},
   "outputs": [],
   "source": [
    "df_games = pd.read_csv(\"data_sets/games.csv\")\n",
    "df_plays = pd.read_csv(\"data_sets/plays.csv\")"
   ]
  },
  {
   "cell_type": "code",
   "execution_count": 8,
   "metadata": {},
   "outputs": [],
   "source": [
    "kick_play_track_df = pd.read_csv(\"play_track_kickoff.csv\")\n",
    "punt_play_track_df = pd.read_csv(\"play_track_punt.csv\")"
   ]
  },
  {
   "cell_type": "code",
   "execution_count": 53,
   "metadata": {},
   "outputs": [],
   "source": [
    "def process_contact_tracking_data(df_track_2018, df_track_2019, df_track_2020):\n",
    "    '''\n",
    "    Get the necessary data from the player tracking dataframes, standardize directions,\n",
    "    and add additional features (velocity)\n",
    "    '''\n",
    "    tracking_df = pd.concat([df_track_2018, df_track_2019, df_track_2020])\n",
    "    tracking_df = tracking_df[tracking_df[\"event\"] == \"first_contact\"]\n",
    "    # Get rid of tracking data on football\n",
    "    tracking_df.drop(tracking_df[tracking_df['team'] == \"football\"].index, inplace = True) \n",
    "    \n",
    "    tracking_df['dir'] = np.mod(90 - tracking_df['dir'], 360)  # Change 0 degrees to be pointing downfield\n",
    "    standardize_tracking_data(tracking_df)\n",
    "    add_velocity_vectors_tracking_data(tracking_df)\n",
    "    \n",
    "    tracking_df[\"nflId\"] = tracking_df[\"nflId\"].astype('int')\n",
    "    tracking_df[\"contact_x\"] = tracking_df[\"x\"]\n",
    "    tracking_df = tracking_df[['gameId','playId','nflId','contact_x']]\n",
    "        \n",
    "    return tracking_df"
   ]
  },
  {
   "cell_type": "code",
   "execution_count": 19,
   "metadata": {},
   "outputs": [],
   "source": [
    "def standardize_tracking_data(df_tracking):\n",
    "    '''\n",
    "    Standardize the positions and directions of the play so that the returning team is always\n",
    "    going from left to right\n",
    "    '''\n",
    "    df_tracking.loc[df_tracking['playDirection'] == \"right\", 'x'] = 120-df_tracking.loc[df_tracking['playDirection'] == \"right\", 'x']\n",
    "    df_tracking.loc[df_tracking['playDirection'] == \"right\", 'y'] = 160/3-df_tracking.loc[df_tracking['playDirection'] == \"right\", 'y']\n",
    "    df_tracking.loc[df_tracking['playDirection'] == \"right\", 'dir'] = np.mod(180 + df_tracking.loc[df_tracking['playDirection'] == \"right\", 'dir'], 360)"
   ]
  },
  {
   "cell_type": "code",
   "execution_count": 20,
   "metadata": {},
   "outputs": [],
   "source": [
    "def add_velocity_vectors_tracking_data(df_tracking):\n",
    "    '''\n",
    "    Use speed and direction to get the player's velocity in the x, y direction and add these as columns to df\n",
    "    '''\n",
    "    df_tracking[\"v_x\"] = df_tracking[\"s\"] * df_tracking[\"dir\"].apply(math.radians).apply(math.cos)\n",
    "    df_tracking[\"v_y\"] = df_tracking[\"s\"] * df_tracking[\"dir\"].apply(math.radians).apply(math.sin)"
   ]
  },
  {
   "cell_type": "code",
   "execution_count": 90,
   "metadata": {},
   "outputs": [],
   "source": [
    "def process_first_contact_data(catch_df, df_track_2018, df_track_2019, df_track_2020):\n",
    "    contact_tracking_df = process_contact_tracking_data(df_track_2018, df_track_2019, df_track_2020)\n",
    "    merged_catch_kick = pd.merge(catch_df, contact_tracking_df, how='inner')\n",
    "    \n",
    "    merged_catch_kick['yards_to_contact'] = merged_catch_kick['contact_x'] - merged_catch_kick['x']\n",
    "    \n",
    "    # Get rid of plays where there was not 22 players on field (Sillie billlies)\n",
    "    grouped_df = merged_catch_kick.groupby([\"gameId\", \"playId\"]) \n",
    "    merged_catch_kick = grouped_df.filter(lambda x: x['nflId'].count() == 22)\n",
    "    \n",
    "    \n",
    "    return merged_catch_kick\n",
    "    \n",
    "    "
   ]
  },
  {
   "cell_type": "code",
   "execution_count": 79,
   "metadata": {},
   "outputs": [],
   "source": [
    "def create_X_tensor(play_track_df):\n",
    "    '''\n",
    "    Creates X input tensor for model. \n",
    "    Returns numpy array of shape (num_plays, 11, 10, 10)\n",
    "    '''\n",
    "    grouped_df = play_track_df.groupby([\"gameId\", \"playId\"])\n",
    "    print(len(grouped_df))\n",
    "    train_x = np.zeros([len(grouped_df),11,10,10])\n",
    "    \n",
    "    i = 0\n",
    "    for name, group in grouped_df:\n",
    "        [[returner_x, returner_y, returner_Vx, returner_Vy]] = group.loc[group.player_side==\"returner\",['x', 'y','v_x','v_y']].values\n",
    "\n",
    "        kick_team_ids = group[group.player_side == \"kicking_team\"].index\n",
    "        return_team_ids = group[group.player_side == \"return_team\"].index\n",
    "\n",
    "        for j, kick_team_id in enumerate(kick_team_ids):\n",
    "            [kick_team_x, kick_team_y, kick_team_Vx, kick_team_Vy] = group.loc[kick_team_id,['x', 'y','v_x','v_y']].values\n",
    "\n",
    "            [kick_team_returner_x, kick_team_returner_y] = group.loc[kick_team_id,['x', 'y']].values - np.array([returner_x, returner_y])\n",
    "            [kick_team_returner_Vx, kick_team_returner_Vy] = group.loc[kick_team_id,['v_x', 'v_y']].values - np.array([returner_Vx, returner_Vy])\n",
    "\n",
    "            train_x[i,j,:,:4] = group.loc[return_team_ids,['v_x','v_y','x', 'y']].values - np.array([kick_team_x, kick_team_y, kick_team_Vx, kick_team_Vy])\n",
    "            train_x[i,j,:,-6:] = [kick_team_returner_Vx, kick_team_returner_Vy, kick_team_returner_x, kick_team_returner_y, kick_team_Vx, kick_team_Vy]\n",
    "        i += 1\n",
    "    \n",
    "    return train_x"
   ]
  },
  {
   "cell_type": "code",
   "execution_count": 80,
   "metadata": {},
   "outputs": [],
   "source": [
    "def create_y_train_contact(play_track_df):\n",
    "    '''\n",
    "    Create dataframe of y data for the model. \n",
    "    Adds 99 yards so that we can never have negative yards on play and also \n",
    "    \"clips\" yard gained so it can never be above or below certain values\n",
    "    '''\n",
    "    # These were set by original model, maybe I want to change these\n",
    "    min_idx_y = 71    # Min yards gained = 28\n",
    "    max_idx_y = 150   # Max yards gained = 51\n",
    "    \n",
    "    train_y = play_track_df[play_track_df['player_side'] == 'returner'][[\"gameId\", \"playId\", \"yards_to_contact\"]]\n",
    "    \n",
    "    train_y['YardIndex'] = train_y[\"yards_to_contact\"].apply(lambda val: val + 99)\n",
    "    train_y['YardIndexClipped'] = train_y['YardIndex'].apply(\n",
    "        lambda val: min_idx_y if val < min_idx_y else max_idx_y if val > max_idx_y else val)\n",
    "    \n",
    "    print('max yardIndex: ', train_y.YardIndex.max())\n",
    "    print('max yardIndexClipped: ', train_y.YardIndexClipped.max())\n",
    "    print('min yardIndex: ', train_y.YardIndex.min())\n",
    "    print('min yardIndexClipped: ', train_y.YardIndexClipped.min())\n",
    "    \n",
    "    return train_y"
   ]
  },
  {
   "cell_type": "code",
   "execution_count": 81,
   "metadata": {},
   "outputs": [],
   "source": [
    "def create_y_tensor(train_y, min_idx_y, max_idx_y):\n",
    "    '''\n",
    "    For each play, create a one-hot encoded vector for yards gained\n",
    "    Returns numpy array of shape (num_plays, num_y_classes) where num_y_classes\n",
    "    is the number of different yards that can be predicted\n",
    "    '''\n",
    "    num_classes_y = max_idx_y - min_idx_y + 1\n",
    "    y_vals = train_y[\"YardIndexClipped\"].values\n",
    "    y_tensor = np.zeros((len(y_vals), num_classes_y), np.int32)\n",
    "    for i, yards in enumerate(y_vals):\n",
    "        y_tensor[(i, yards.astype(np.int32) - min_idx_y)] = 1\n",
    "    \n",
    "    return y_tensor"
   ]
  },
  {
   "cell_type": "code",
   "execution_count": 95,
   "metadata": {},
   "outputs": [],
   "source": [
    "def get_input_data(play_track_df, output_tag, test_size=0.1, save_tensors=True):\n",
    "    X_tensor = create_X_tensor(play_track_df)\n",
    "    print(\"X Shape\", X_tensor.shape)\n",
    "    \n",
    "    train_y = create_y_train(play_track_df)\n",
    "    y_tensor = create_y_tensor(train_y, 71, 150)\n",
    "    print(\"y Shape\", y_tensor.shape)\n",
    "    \n",
    "    X_train_tensor, X_test_tensor, y_train_tensor, y_test_tensor = train_test_split(X_tensor, y_tensor, test_size=test_size)\n",
    "    \n",
    "    print(\"Train X\", X_train_tensor.shape)\n",
    "    print(\"Test X\", X_test_tensor.shape)\n",
    "    print(\"Train y\", y_train_tensor.shape)\n",
    "    print(\"Test y\", y_test_tensor.shape)\n",
    "    \n",
    "    if save_tensors:\n",
    "        with open(f'input_tensors/X_tensor_{output_tag}_train.data', 'wb') as f:\n",
    "            pickle.dump(X_train_tensor, f)\n",
    "        with open(f'input_tensors/X_tensor_{output_tag}_test.data', 'wb') as f:\n",
    "            pickle.dump(X_test_tensor, f)\n",
    "        with open(f'input_tensors/y_tensor_{output_tag}_train.data', 'wb') as f:\n",
    "            pickle.dump(y_train_tensor, f)\n",
    "        with open(f'input_tensors/y_tensor_{output_tag}_test.data', 'wb') as f:\n",
    "            pickle.dump(y_test_tensor, f)\n",
    "\n",
    "    \n",
    "    return X_train_tensor, X_test_tensor, y_train_tensor, y_test_tensor"
   ]
  },
  {
   "cell_type": "code",
   "execution_count": 100,
   "metadata": {},
   "outputs": [],
   "source": [
    "def get_input_data_combo(kick_play_track_df, punt_play_track_df, output_tag, test_size=0.1):\n",
    "    X_train_kick_tensor, X_test_kick_tensor, y_train_kick_tensor, y_test_kick_tensor = get_input_data(kick_play_track_df, \"kick\", test_size=test_size, save_tensors=False)\n",
    "    X_train_punt_tensor, X_test_punt_tensor, y_train_punt_tensor, y_test_punt_tensor = get_input_data(punt_play_track_df, \"punt\", test_size=test_size, save_tensors=False)\n",
    "    \n",
    "    X_train_comb_tensor = np.concatenate((X_train_kick_tensor, X_train_punt_tensor))\n",
    "    X_test_comb_tensor = np.concatenate((X_test_kick_tensor, X_test_punt_tensor))\n",
    "    y_train_comb_tensor = np.concatenate((y_train_kick_tensor, y_train_punt_tensor))\n",
    "    y_test_comb_tensor = np.concatenate((y_test_kick_tensor, y_test_punt_tensor))\n",
    "    \n",
    "    print(\"X_train_combo\", X_train_comb_tensor.shape)\n",
    "    print(\"X_test_combo\", X_test_comb_tensor.shape)\n",
    "    print(\"y_train_combo\", y_train_comb_tensor.shape)\n",
    "    print(\"y_test_combo\", y_test_comb_tensor.shape)\n",
    "    \n",
    "    shuffle = np.arange(len(X_train_comb_tensor))\n",
    "    np.random.shuffle(shuffle)\n",
    "    X_train_comb_tensor = X_train_comb_tensor[shuffle]\n",
    "    y_train_comb_tensor = y_train_comb_tensor[shuffle]\n",
    "    \n",
    "    print(\"X_train_combo Shuffled\", X_train_comb_tensor.shape)\n",
    "    print(\"y_train_combo Shuffled\", y_train_comb_tensor.shape)\n",
    "    \n",
    "    with open(f'input_tensors/X_tensor_comb_{output_tag}_train.data', 'wb') as f:\n",
    "        pickle.dump(X_train_comb_tensor, f)\n",
    "    with open(f'input_tensors/X_tensor_comb_{output_tag}_test.data', 'wb') as f:\n",
    "        pickle.dump(X_test_comb_tensor, f)\n",
    "    with open(f'input_tensors/y_tensor_comb_{output_tag}_train.data', 'wb') as f:\n",
    "        pickle.dump(y_train_comb_tensor, f)\n",
    "    with open(f'input_tensors/y_tensor_comb_{output_tag}_test.data', 'wb') as f:\n",
    "        pickle.dump(y_test_comb_tensor, f)\n",
    "    \n",
    "    \n",
    "    return X_train_comb_tensor, X_test_comb_tensor, y_train_comb_tensor, y_test_comb_tensor\n",
    "    \n",
    "    \n",
    "    \n",
    "    \n",
    "    \n",
    "    \n",
    "    "
   ]
  },
  {
   "cell_type": "code",
   "execution_count": 97,
   "metadata": {},
   "outputs": [],
   "source": [
    "kick_contact_df = process_first_contact_data(kick_play_track_df, df_track_2018, df_track_2019, df_track_2020)"
   ]
  },
  {
   "cell_type": "code",
   "execution_count": 92,
   "metadata": {},
   "outputs": [
    {
     "data": {
      "text/html": [
       "<div>\n",
       "<style scoped>\n",
       "    .dataframe tbody tr th:only-of-type {\n",
       "        vertical-align: middle;\n",
       "    }\n",
       "\n",
       "    .dataframe tbody tr th {\n",
       "        vertical-align: top;\n",
       "    }\n",
       "\n",
       "    .dataframe thead th {\n",
       "        text-align: right;\n",
       "    }\n",
       "</style>\n",
       "<table border=\"1\" class=\"dataframe\">\n",
       "  <thead>\n",
       "    <tr style=\"text-align: right;\">\n",
       "      <th></th>\n",
       "      <th>gameId</th>\n",
       "      <th>homeTeamAbbr</th>\n",
       "      <th>visitorTeamAbbr</th>\n",
       "      <th>playId</th>\n",
       "      <th>possessionTeam</th>\n",
       "      <th>returnerId</th>\n",
       "      <th>kickReturnYardage</th>\n",
       "      <th>nflId</th>\n",
       "      <th>team</th>\n",
       "      <th>x</th>\n",
       "      <th>y</th>\n",
       "      <th>v_x</th>\n",
       "      <th>v_y</th>\n",
       "      <th>team_abbr</th>\n",
       "      <th>player_side</th>\n",
       "      <th>contact_x</th>\n",
       "      <th>yards_to_contact</th>\n",
       "    </tr>\n",
       "  </thead>\n",
       "  <tbody>\n",
       "    <tr>\n",
       "      <th>0</th>\n",
       "      <td>2018090600</td>\n",
       "      <td>PHI</td>\n",
       "      <td>ATL</td>\n",
       "      <td>677</td>\n",
       "      <td>ATL</td>\n",
       "      <td>44979</td>\n",
       "      <td>30.0</td>\n",
       "      <td>37267</td>\n",
       "      <td>away</td>\n",
       "      <td>53.07</td>\n",
       "      <td>37.21</td>\n",
       "      <td>-6.592228</td>\n",
       "      <td>1.668090</td>\n",
       "      <td>ATL</td>\n",
       "      <td>kicking_team</td>\n",
       "      <td>42.51</td>\n",
       "      <td>-10.56</td>\n",
       "    </tr>\n",
       "    <tr>\n",
       "      <th>1</th>\n",
       "      <td>2018090600</td>\n",
       "      <td>PHI</td>\n",
       "      <td>ATL</td>\n",
       "      <td>677</td>\n",
       "      <td>ATL</td>\n",
       "      <td>44979</td>\n",
       "      <td>30.0</td>\n",
       "      <td>38707</td>\n",
       "      <td>away</td>\n",
       "      <td>44.11</td>\n",
       "      <td>24.92</td>\n",
       "      <td>-9.304336</td>\n",
       "      <td>3.798924</td>\n",
       "      <td>ATL</td>\n",
       "      <td>kicking_team</td>\n",
       "      <td>28.36</td>\n",
       "      <td>-15.75</td>\n",
       "    </tr>\n",
       "    <tr>\n",
       "      <th>2</th>\n",
       "      <td>2018090600</td>\n",
       "      <td>PHI</td>\n",
       "      <td>ATL</td>\n",
       "      <td>677</td>\n",
       "      <td>ATL</td>\n",
       "      <td>44979</td>\n",
       "      <td>30.0</td>\n",
       "      <td>40191</td>\n",
       "      <td>away</td>\n",
       "      <td>43.90</td>\n",
       "      <td>21.75</td>\n",
       "      <td>-8.566566</td>\n",
       "      <td>3.099363</td>\n",
       "      <td>ATL</td>\n",
       "      <td>kicking_team</td>\n",
       "      <td>29.46</td>\n",
       "      <td>-14.44</td>\n",
       "    </tr>\n",
       "    <tr>\n",
       "      <th>3</th>\n",
       "      <td>2018090600</td>\n",
       "      <td>PHI</td>\n",
       "      <td>ATL</td>\n",
       "      <td>677</td>\n",
       "      <td>ATL</td>\n",
       "      <td>44979</td>\n",
       "      <td>30.0</td>\n",
       "      <td>40408</td>\n",
       "      <td>home</td>\n",
       "      <td>39.07</td>\n",
       "      <td>41.27</td>\n",
       "      <td>-0.822248</td>\n",
       "      <td>2.456015</td>\n",
       "      <td>PHI</td>\n",
       "      <td>return_team</td>\n",
       "      <td>37.84</td>\n",
       "      <td>-1.23</td>\n",
       "    </tr>\n",
       "    <tr>\n",
       "      <th>4</th>\n",
       "      <td>2018090600</td>\n",
       "      <td>PHI</td>\n",
       "      <td>ATL</td>\n",
       "      <td>677</td>\n",
       "      <td>ATL</td>\n",
       "      <td>44979</td>\n",
       "      <td>30.0</td>\n",
       "      <td>42450</td>\n",
       "      <td>away</td>\n",
       "      <td>45.07</td>\n",
       "      <td>49.79</td>\n",
       "      <td>-9.179993</td>\n",
       "      <td>0.011215</td>\n",
       "      <td>ATL</td>\n",
       "      <td>kicking_team</td>\n",
       "      <td>28.81</td>\n",
       "      <td>-16.26</td>\n",
       "    </tr>\n",
       "  </tbody>\n",
       "</table>\n",
       "</div>"
      ],
      "text/plain": [
       "       gameId homeTeamAbbr visitorTeamAbbr  playId possessionTeam  returnerId  \\\n",
       "0  2018090600          PHI             ATL     677            ATL       44979   \n",
       "1  2018090600          PHI             ATL     677            ATL       44979   \n",
       "2  2018090600          PHI             ATL     677            ATL       44979   \n",
       "3  2018090600          PHI             ATL     677            ATL       44979   \n",
       "4  2018090600          PHI             ATL     677            ATL       44979   \n",
       "\n",
       "   kickReturnYardage  nflId  team      x      y       v_x       v_y team_abbr  \\\n",
       "0               30.0  37267  away  53.07  37.21 -6.592228  1.668090       ATL   \n",
       "1               30.0  38707  away  44.11  24.92 -9.304336  3.798924       ATL   \n",
       "2               30.0  40191  away  43.90  21.75 -8.566566  3.099363       ATL   \n",
       "3               30.0  40408  home  39.07  41.27 -0.822248  2.456015       PHI   \n",
       "4               30.0  42450  away  45.07  49.79 -9.179993  0.011215       ATL   \n",
       "\n",
       "    player_side  contact_x  yards_to_contact  \n",
       "0  kicking_team      42.51            -10.56  \n",
       "1  kicking_team      28.36            -15.75  \n",
       "2  kicking_team      29.46            -14.44  \n",
       "3   return_team      37.84             -1.23  \n",
       "4  kicking_team      28.81            -16.26  "
      ]
     },
     "execution_count": 92,
     "metadata": {},
     "output_type": "execute_result"
    }
   ],
   "source": [
    "kick_contact_df.head(30)"
   ]
  },
  {
   "cell_type": "code",
   "execution_count": 93,
   "metadata": {},
   "outputs": [],
   "source": [
    "punt_contact_df = process_first_contact_data(punt_play_track_df, df_track_2018, df_track_2019, df_track_2020)"
   ]
  },
  {
   "cell_type": "code",
   "execution_count": 102,
   "metadata": {},
   "outputs": [
    {
     "data": {
      "text/plain": [
       "(40018, 17)"
      ]
     },
     "execution_count": 102,
     "metadata": {},
     "output_type": "execute_result"
    }
   ],
   "source": [
    "punt_contact_df.shape"
   ]
  },
  {
   "cell_type": "code",
   "execution_count": 98,
   "metadata": {},
   "outputs": [
    {
     "name": "stdout",
     "output_type": "stream",
     "text": [
      "2333\n",
      "X Shape (2333, 11, 10, 10)\n",
      "max yardIndex:  180.01\n",
      "max yardIndexClipped:  150.0\n",
      "min yardIndex:  96.07\n",
      "min yardIndexClipped:  96.07\n",
      "y Shape (2333, 80)\n",
      "Train X (2099, 11, 10, 10)\n",
      "Test X (234, 11, 10, 10)\n",
      "Train y (2099, 80)\n",
      "Test y (234, 80)\n"
     ]
    }
   ],
   "source": [
    "X_train_kick_tensor, X_test_kick_tensor, y_train_kick_tensor, y_test_kick_tensor = get_input_data(kick_contact_df, \"contact_kick\", test_size=0.1, save_tensors=True)"
   ]
  },
  {
   "cell_type": "code",
   "execution_count": null,
   "metadata": {},
   "outputs": [],
   "source": [
    "X_train_punt_tensor, X_test_punt_tensor, y_train_punt_tensor, y_test_punt_tensor = get_input_data(punt_contact_df, \"contact_punt\", test_size=0.1, save_tensors=True)"
   ]
  },
  {
   "cell_type": "code",
   "execution_count": 101,
   "metadata": {},
   "outputs": [
    {
     "name": "stdout",
     "output_type": "stream",
     "text": [
      "2333\n",
      "X Shape (2333, 11, 10, 10)\n",
      "max yardIndex:  180.01\n",
      "max yardIndexClipped:  150.0\n",
      "min yardIndex:  96.07\n",
      "min yardIndexClipped:  96.07\n",
      "y Shape (2333, 80)\n",
      "Train X (2099, 11, 10, 10)\n",
      "Test X (234, 11, 10, 10)\n",
      "Train y (2099, 80)\n",
      "Test y (234, 80)\n",
      "1819\n",
      "X Shape (1819, 11, 10, 10)\n",
      "max yardIndex:  165.19\n",
      "max yardIndexClipped:  150.0\n",
      "min yardIndex:  91.12\n",
      "min yardIndexClipped:  91.12\n",
      "y Shape (1819, 80)\n",
      "Train X (1637, 11, 10, 10)\n",
      "Test X (182, 11, 10, 10)\n",
      "Train y (1637, 80)\n",
      "Test y (182, 80)\n",
      "X_train_combo (3736, 11, 10, 10)\n",
      "X_test_combo (416, 11, 10, 10)\n",
      "y_train_combo (3736, 80)\n",
      "y_test_combo (416, 80)\n",
      "X_train_combo Shuffled (3736, 11, 10, 10)\n",
      "y_train_combo Shuffled (3736, 80)\n"
     ]
    }
   ],
   "source": [
    "X_train_comb_tensor, X_test_comb_tensor, y_train_comb_tensor, y_test_comb_tensor = get_input_data_combo(kick_contact_df, punt_contact_df, \"contact\", test_size=0.1)"
   ]
  },
  {
   "cell_type": "code",
   "execution_count": null,
   "metadata": {},
   "outputs": [],
   "source": []
  }
 ],
 "metadata": {
  "kernelspec": {
   "display_name": "Python 3",
   "language": "python",
   "name": "python3"
  },
  "language_info": {
   "codemirror_mode": {
    "name": "ipython",
    "version": 3
   },
   "file_extension": ".py",
   "mimetype": "text/x-python",
   "name": "python",
   "nbconvert_exporter": "python",
   "pygments_lexer": "ipython3",
   "version": "3.7.3"
  }
 },
 "nbformat": 4,
 "nbformat_minor": 4
}
