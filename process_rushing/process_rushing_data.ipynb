{
 "cells": [
  {
   "cell_type": "code",
   "execution_count": 1,
   "metadata": {},
   "outputs": [],
   "source": [
    "# Acknowledgement: The code in this notebook was written by Gordeev and Singer for their model.\n",
    "#                  https://www.kaggle.com/jccampos/nfl-2020-winner-solution-the-zoo\n",
    "\n",
    "import os\n",
    "import math\n",
    "import datetime\n",
    "import re\n",
    "from string import punctuation\n",
    "\n",
    "import pandas as pd\n",
    "import numpy as np\n",
    "import matplotlib.pyplot as plt\n",
    "\n"
   ]
  },
  {
   "cell_type": "code",
   "execution_count": 24,
   "metadata": {},
   "outputs": [],
   "source": [
    "import pickle"
   ]
  },
  {
   "cell_type": "code",
   "execution_count": 2,
   "metadata": {},
   "outputs": [],
   "source": [
    "train = pd.read_csv('rushing_data/train.csv', dtype={'WindSpeed': 'object'})"
   ]
  },
  {
   "cell_type": "code",
   "execution_count": 3,
   "metadata": {},
   "outputs": [],
   "source": [
    "def split_play_and_player_cols(df,predicting=False):\n",
    "    df['IsRusher'] = df['NflId'] == df['NflIdRusher']\n",
    "    \n",
    "    play_ids = df[\"PlayId\"].unique()\n",
    "    #play_ids_filter = np.random.choice(play_ids,int(len(play_ids)*0.01),replace=False)\n",
    "    #df = df.loc[df.PlayId.isin(play_ids_filter)]\n",
    "    \n",
    "    df['PlayId'] = df['PlayId'].astype(str)\n",
    "    \n",
    "    # We must assume here that the first 22 rows correspond to the same player:\n",
    "    player_cols = [\n",
    "        'PlayId', # This is the link between them\n",
    "        'Season',\n",
    "        'Team',\n",
    "        'X',\n",
    "        'Y',\n",
    "        'S',\n",
    "        'A',\n",
    "        'Dis',\n",
    "        'Dir',\n",
    "        'NflId',\n",
    "        'IsRusher',\n",
    "    ]\n",
    "\n",
    "    df_players = df[player_cols]\n",
    "    \n",
    "    play_cols = [\n",
    "        'PlayId',\n",
    "        'Season',\n",
    "        'PossessionTeam',\n",
    "        'HomeTeamAbbr',\n",
    "        'VisitorTeamAbbr',\n",
    "        'PlayDirection', \n",
    "        'FieldPosition',\n",
    "        'YardLine',\n",
    "    ]\n",
    "    if not predicting:\n",
    "        play_cols.append('Yards')\n",
    "        \n",
    "    df_play = df[play_cols].copy()\n",
    "\n",
    "    ## Fillna in FieldPosition attribute\n",
    "    #df['FieldPosition'] = df.groupby(['PlayId'], sort=False)['FieldPosition'].apply(lambda x: x.ffill().bfill())\n",
    "    \n",
    "    # Get first \n",
    "    df_play = df_play.groupby('PlayId').first().reset_index()\n",
    "\n",
    "    #print('rows/plays in df: ', len(df_play))\n",
    "    assert df_play.PlayId.nunique() == df.PlayId.nunique(), \"Play/player split failed?\"  # Boom\n",
    "    \n",
    "    return df_play, df_players"
   ]
  },
  {
   "cell_type": "code",
   "execution_count": 4,
   "metadata": {},
   "outputs": [],
   "source": [
    "play_ids = train[\"PlayId\"].unique()\n",
    "\n",
    "df_play, df_players = split_play_and_player_cols(train)"
   ]
  },
  {
   "cell_type": "code",
   "execution_count": 5,
   "metadata": {},
   "outputs": [],
   "source": [
    "def process_team_abbr(df):\n",
    "\n",
    "    #These are only problems:\n",
    "    map_abbr = {'ARI': 'ARZ', 'BAL': 'BLT', 'CLE': 'CLV', 'HOU': 'HST'}\n",
    "    for abb in df['PossessionTeam'].unique():\n",
    "        map_abbr[abb] = abb\n",
    "\n",
    "    df['PossessionTeam'] = df['PossessionTeam'].map(map_abbr)\n",
    "    df['HomeTeamAbbr'] = df['HomeTeamAbbr'].map(map_abbr)\n",
    "    df['VisitorTeamAbbr'] = df['VisitorTeamAbbr'].map(map_abbr)\n",
    "\n",
    "    df['HomePossession'] = df['PossessionTeam'] == df['HomeTeamAbbr']\n",
    "    \n",
    "    return\n",
    "\n",
    "process_team_abbr(df_play)"
   ]
  },
  {
   "cell_type": "code",
   "execution_count": 6,
   "metadata": {},
   "outputs": [],
   "source": [
    "def process_play_direction(df):\n",
    "    df['IsPlayLeftToRight'] = df['PlayDirection'].apply(lambda val: True if val.strip() == 'right' else False)\n",
    "    return\n",
    "process_play_direction(df_play)"
   ]
  },
  {
   "cell_type": "code",
   "execution_count": 7,
   "metadata": {},
   "outputs": [],
   "source": [
    "def process_yard_til_end_zone(df):\n",
    "    def convert_to_yardline100(row):\n",
    "        return (100 - row['YardLine']) if (row['PossessionTeam'] == row['FieldPosition']) else row['YardLine']\n",
    "    df['Yardline100'] = df.apply(convert_to_yardline100, axis=1)\n",
    "    return\n",
    "\n",
    "process_yard_til_end_zone(df_play)"
   ]
  },
  {
   "cell_type": "code",
   "execution_count": 8,
   "metadata": {},
   "outputs": [],
   "source": [
    "df_players = df_players.merge(\n",
    "    df_play[['PlayId', 'PossessionTeam', 'HomeTeamAbbr', 'PlayDirection', 'Yardline100']], \n",
    "    how='left', on='PlayId')\n",
    "\n",
    "df_players.loc[df_players.Season == 2017, 'S'] = 10*df_players.loc[df_players.Season == 2017,'Dis']"
   ]
  },
  {
   "cell_type": "code",
   "execution_count": 9,
   "metadata": {},
   "outputs": [],
   "source": [
    "def standarize_direction(df):\n",
    "    # adjusted the data to always be from left to right\n",
    "    df['HomePossesion'] = df['PossessionTeam'] == df['HomeTeamAbbr']\n",
    "\n",
    "    df['Dir_rad'] = np.mod(90 - df.Dir, 360) * math.pi/180.0\n",
    "\n",
    "    df['ToLeft'] = df.PlayDirection == \"left\"\n",
    "    df['TeamOnOffense'] = \"home\"\n",
    "    df.loc[df.PossessionTeam != df.HomeTeamAbbr, 'TeamOnOffense'] = \"away\"\n",
    "    df['IsOnOffense'] = df.Team == df.TeamOnOffense # Is player on offense?\n",
    "    df['X_std'] = df.X\n",
    "    df.loc[df.ToLeft, 'X_std'] = 120 - df.loc[df.ToLeft, 'X']\n",
    "    df['Y_std'] = df.Y\n",
    "    df.loc[df.ToLeft, 'Y_std'] = 160/3 - df.loc[df.ToLeft, 'Y']\n",
    "    df['Dir_std'] = df.Dir_rad\n",
    "    df.loc[df.ToLeft, 'Dir_std'] = np.mod(np.pi + df.loc[df.ToLeft, 'Dir_rad'], 2*np.pi)\n",
    "   \n",
    "    #Replace Null in Dir_rad\n",
    "    df.loc[(df.IsOnOffense) & df['Dir_std'].isna(),'Dir_std'] = 0.0\n",
    "    df.loc[~(df.IsOnOffense) & df['Dir_std'].isna(),'Dir_std'] = np.pi\n",
    "\n",
    "standarize_direction(df_players)"
   ]
  },
  {
   "cell_type": "code",
   "execution_count": 10,
   "metadata": {},
   "outputs": [],
   "source": [
    "def data_augmentation(df, sample_ids):\n",
    "    df_sample = df.loc[df.PlayId.isin(sample_ids)].copy()\n",
    "    df_sample['Y_std'] = 160/3  - df_sample['Y_std']\n",
    "    df_sample['Dir_std'] = df_sample['Dir_std'].apply(lambda x: 2*np.pi - x)\n",
    "    df_sample['PlayId'] = df_sample['PlayId'].apply(lambda x: x+'_aug')\n",
    "    return df_sample\n",
    "\n",
    "def process_tracking_data(df):\n",
    "    # More feature engineering for all:\n",
    "    df['Sx'] = df['S']*df['Dir_std'].apply(math.cos)\n",
    "    df['Sy'] = df['S']*df['Dir_std'].apply(math.sin)\n",
    "    \n",
    "    # ball carrier position\n",
    "    rushers = df[df['IsRusher']].copy()\n",
    "    rushers.set_index('PlayId', inplace=True, drop=True)\n",
    "    playId_rusher_map = rushers[['X_std', 'Y_std', 'Sx', 'Sy']].to_dict(orient='index')\n",
    "    rusher_x = df['PlayId'].apply(lambda val: playId_rusher_map[val]['X_std'])\n",
    "    rusher_y = df['PlayId'].apply(lambda val: playId_rusher_map[val]['Y_std'])\n",
    "    rusher_Sx = df['PlayId'].apply(lambda val: playId_rusher_map[val]['Sx'])\n",
    "    rusher_Sy = df['PlayId'].apply(lambda val: playId_rusher_map[val]['Sy'])\n",
    "    \n",
    "    # Calculate differences between the rusher and the players:\n",
    "    df['player_minus_rusher_x'] = rusher_x - df['X_std']\n",
    "    df['player_minus_rusher_y'] = rusher_y - df['Y_std']\n",
    "\n",
    "    # Velocity parallel to direction of rusher:\n",
    "    df['player_minus_rusher_Sx'] = rusher_Sx - df['Sx']\n",
    "    df['player_minus_rusher_Sy'] = rusher_Sy - df['Sy']\n",
    "\n",
    "    return\n",
    "\n",
    "sample_ids = np.random.choice(df_play.PlayId.unique(), int(0.5*len(df_play.PlayId.unique())))\n",
    "#sample_ids = df_play.PlayId.unique()\n",
    "\n",
    "df_players_aug = data_augmentation(df_players, sample_ids)\n",
    "df_players = pd.concat([df_players, df_players_aug])\n",
    "df_players.reset_index()\n",
    "\n",
    "df_play_aug = df_play.loc[df_play.PlayId.isin(sample_ids)].copy()\n",
    "df_play_aug['PlayId'] = df_play_aug['PlayId'].apply(lambda x: x+'_aug')\n",
    "df_play = pd.concat([df_play, df_play_aug])\n",
    "df_play.reset_index()\n",
    "\n",
    "# This is necessary to maintain the order when in the next cell we use groupby\n",
    "df_players.sort_values(by=['PlayId'],inplace=True)\n",
    "df_play.sort_values(by=['PlayId'],inplace=True)\n",
    "\n",
    "process_tracking_data(df_players)"
   ]
  },
  {
   "cell_type": "code",
   "execution_count": 11,
   "metadata": {},
   "outputs": [
    {
     "name": "stdout",
     "output_type": "stream",
     "text": [
      "Any null values:  0\n"
     ]
    }
   ],
   "source": [
    "tracking_level_features = [\n",
    "    'PlayId',\n",
    "    'IsOnOffense',\n",
    "    'X_std',\n",
    "    'Y_std',\n",
    "    'Sx',\n",
    "    'Sy',\n",
    "    'player_minus_rusher_x',\n",
    "    'player_minus_rusher_y',\n",
    "    'player_minus_rusher_Sx',\n",
    "    'player_minus_rusher_Sy',\n",
    "    'IsRusher'\n",
    "]\n",
    "\n",
    "df_all_feats = df_players[tracking_level_features]\n",
    "\n",
    "print('Any null values: ', df_all_feats.isnull().sum().sum())"
   ]
  },
  {
   "cell_type": "code",
   "execution_count": 12,
   "metadata": {},
   "outputs": [
    {
     "name": "stdout",
     "output_type": "stream",
     "text": [
      "CPU times: user 27min 9s, sys: 13.8 s, total: 27min 23s\n",
      "Wall time: 28min 51s\n"
     ]
    }
   ],
   "source": [
    "%%time\n",
    "\n",
    "grouped = df_all_feats.groupby('PlayId')\n",
    "train_x = np.zeros([len(grouped.size()),11,10,10])\n",
    "i = 0\n",
    "play_ids = df_play.PlayId.values\n",
    "for name, group in grouped:\n",
    "    if name!=play_ids[i]:\n",
    "        print(\"Error\")\n",
    "\n",
    "    [[rusher_x, rusher_y, rusher_Sx, rusher_Sy]] = group.loc[group.IsRusher==1,['X_std', 'Y_std','Sx','Sy']].values\n",
    "\n",
    "    offense_ids = group[group.IsOnOffense & ~group.IsRusher].index\n",
    "    defense_ids = group[~group.IsOnOffense].index\n",
    "\n",
    "    for j, defense_id in enumerate(defense_ids):\n",
    "        [def_x, def_y, def_Sx, def_Sy] = group.loc[defense_id,['X_std', 'Y_std','Sx','Sy']].values\n",
    "        [def_rusher_x, def_rusher_y] = group.loc[defense_id,['player_minus_rusher_x', 'player_minus_rusher_y']].values\n",
    "        [def_rusher_Sx, def_rusher_Sy] =  group.loc[defense_id,['player_minus_rusher_Sx', 'player_minus_rusher_Sy']].values\n",
    "        \n",
    "        train_x[i,j,:,:4] = group.loc[offense_ids,['Sx','Sy','X_std', 'Y_std']].values - np.array([def_Sx, def_Sy, def_x,def_y])\n",
    "        train_x[i,j,:,-6:] = [def_rusher_Sx, def_rusher_Sy, def_rusher_x, def_rusher_y, def_Sx, def_Sy]\n",
    "    \n",
    "    i+=1"
   ]
  },
  {
   "cell_type": "code",
   "execution_count": 13,
   "metadata": {},
   "outputs": [
    {
     "name": "stdout",
     "output_type": "stream",
     "text": [
      "max yardIndex:  198\n",
      "max yardIndexClipped:  150\n",
      "min yardIndex:  84\n",
      "min yardIndexClipped:  84\n"
     ]
    }
   ],
   "source": [
    "train_y = df_play[['PlayId', 'Yards']].copy()\n",
    "\n",
    "train_y['YardIndex'] = train_y['Yards'].apply(lambda val: val + 99)\n",
    "\n",
    "min_idx_y = 71\n",
    "max_idx_y = 150\n",
    "\n",
    "train_y['YardIndexClipped'] = train_y['YardIndex'].apply(\n",
    "    lambda val: min_idx_y if val < min_idx_y else max_idx_y if val > max_idx_y else val)\n",
    "\n",
    "print('max yardIndex: ', train_y.YardIndex.max())\n",
    "print('max yardIndexClipped: ', train_y.YardIndexClipped.max())\n",
    "print('min yardIndex: ', train_y.YardIndex.min())\n",
    "print('min yardIndexClipped: ', train_y.YardIndexClipped.min())\n"
   ]
  },
  {
   "cell_type": "code",
   "execution_count": 14,
   "metadata": {},
   "outputs": [],
   "source": [
    "df_season = df_play[['PlayId', 'Season']].copy()"
   ]
  },
  {
   "cell_type": "code",
   "execution_count": 18,
   "metadata": {},
   "outputs": [],
   "source": [
    "min_idx_y = 71\n",
    "max_idx_y = 150\n",
    "num_classes_y = max_idx_y - min_idx_y + 1\n",
    "\n",
    "\n",
    "X_train = train_x\n",
    "y_train = train_y['YardIndexClipped'].values \n",
    "season_val = df_season['Season'].values\n",
    "\n",
    "y_train_values = np.zeros((len(y_train), num_classes_y), np.int32)\n",
    "for irow, row in enumerate(y_train):\n",
    "    y_train_values[(irow, row - min_idx_y)] = 1\n",
    "\n",
    "val_idx = np.where(season_val!=2017)\n",
    "\n",
    "y_train_values = y_train_values.astype('float32')"
   ]
  },
  {
   "cell_type": "code",
   "execution_count": 20,
   "metadata": {},
   "outputs": [
    {
     "data": {
      "text/plain": [
       "(43180, 11, 10, 10)"
      ]
     },
     "execution_count": 20,
     "metadata": {},
     "output_type": "execute_result"
    }
   ],
   "source": [
    "X_train.shape"
   ]
  },
  {
   "cell_type": "code",
   "execution_count": 22,
   "metadata": {},
   "outputs": [
    {
     "data": {
      "text/plain": [
       "(43180, 80)"
      ]
     },
     "execution_count": 22,
     "metadata": {},
     "output_type": "execute_result"
    }
   ],
   "source": [
    "y_train_values.shape"
   ]
  },
  {
   "cell_type": "code",
   "execution_count": 25,
   "metadata": {},
   "outputs": [],
   "source": [
    "with open('input_tensors/X_tensor_rush.data', 'wb') as f:\n",
    "    pickle.dump(X_train, f)\n",
    "with open('input_tensors/y_tensor_rush.data', 'wb') as f:\n",
    "    pickle.dump(y_train_values, f)"
   ]
  },
  {
   "cell_type": "code",
   "execution_count": null,
   "metadata": {},
   "outputs": [],
   "source": []
  }
 ],
 "metadata": {
  "kernelspec": {
   "display_name": "Python 3",
   "language": "python",
   "name": "python3"
  },
  "language_info": {
   "codemirror_mode": {
    "name": "ipython",
    "version": 3
   },
   "file_extension": ".py",
   "mimetype": "text/x-python",
   "name": "python",
   "nbconvert_exporter": "python",
   "pygments_lexer": "ipython3",
   "version": "3.7.3"
  }
 },
 "nbformat": 4,
 "nbformat_minor": 4
}
