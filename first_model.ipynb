{
 "cells": [
  {
   "cell_type": "code",
   "execution_count": 1,
   "metadata": {},
   "outputs": [],
   "source": [
    "from tensorflow.keras.models import Model"
   ]
  },
  {
   "cell_type": "code",
   "execution_count": 2,
   "metadata": {},
   "outputs": [],
   "source": [
    "from tensorflow.keras.layers import (\n",
    "    Conv1D, Conv2D, MaxPooling1D, MaxPooling2D, AvgPool1D, AvgPool2D, Reshape,\n",
    "    Input, Activation, BatchNormalization, Dense, Add, Lambda, Dropout, LayerNormalization)\n",
    "from tensorflow.keras.optimizers import Adam\n",
    "from tensorflow.keras import backend as K\n",
    "from tensorflow.keras.callbacks import Callback, EarlyStopping\n",
    "\n",
    "import tensorflow as tf \n",
    "from sklearn.model_selection import train_test_split\n",
    "from sklearn.model_selection import KFold"
   ]
  },
  {
   "cell_type": "code",
   "execution_count": 3,
   "metadata": {},
   "outputs": [],
   "source": [
    "import numpy as np\n",
    "import pandas as pd\n",
    "import pickle"
   ]
  },
  {
   "cell_type": "code",
   "execution_count": 4,
   "metadata": {},
   "outputs": [],
   "source": [
    "import matplotlib.pyplot as plt"
   ]
  },
  {
   "cell_type": "code",
   "execution_count": 5,
   "metadata": {},
   "outputs": [],
   "source": [
    "min_idx_y = 71\n",
    "max_idx_y = 150\n",
    "num_classes_y = max_idx_y - min_idx_y + 1"
   ]
  },
  {
   "cell_type": "code",
   "execution_count": 6,
   "metadata": {},
   "outputs": [],
   "source": [
    "def crps(y_true, y_pred):\n",
    "    loss = K.mean(K.sum((K.cumsum(y_pred, axis = 1) - K.cumsum(y_true, axis=1))**2, axis=1))/199\n",
    "    return loss"
   ]
  },
  {
   "cell_type": "code",
   "execution_count": 7,
   "metadata": {},
   "outputs": [],
   "source": [
    "def get_conv_net(num_classes_y):\n",
    "    #_, x, y, z = train_x.shape\n",
    "    inputdense_players = Input(shape=(11,10,10), name = \"playersfeatures_input\")\n",
    "    \n",
    "    X = Conv2D(128, kernel_size=(1,1), strides=(1,1), activation='relu')(inputdense_players)\n",
    "    X = Conv2D(160, kernel_size=(1,1), strides=(1,1), activation='relu')(X)\n",
    "    X = Conv2D(128, kernel_size=(1,1), strides=(1,1), activation='relu')(X)\n",
    "    \n",
    "    # The second block of convolutions learns the necessary information per defense player before the aggregation.\n",
    "    # For this reason the pool_size should be (1, 10). If you want to learn per off player the pool_size must be \n",
    "    # (11, 1)\n",
    "    Xmax = MaxPooling2D(pool_size=(1,10))(X)\n",
    "    Xmax = Lambda(lambda x1 : x1*0.3)(Xmax)\n",
    "\n",
    "    Xavg = AvgPool2D(pool_size=(1,10))(X)\n",
    "    Xavg = Lambda(lambda x1 : x1*0.7)(Xavg)\n",
    "\n",
    "    X = Add()([Xmax, Xavg])\n",
    "    X = Lambda(lambda y : K.squeeze(y,2))(X)\n",
    "    X = BatchNormalization()(X)\n",
    "    \n",
    "    X = Conv1D(160, kernel_size=1, strides=1, activation='relu')(X)\n",
    "    X = BatchNormalization()(X)\n",
    "    X = Conv1D(96, kernel_size=1, strides=1, activation='relu')(X)\n",
    "    X = BatchNormalization()(X)\n",
    "    X = Conv1D(96, kernel_size=1, strides=1, activation='relu')(X)\n",
    "    X = BatchNormalization()(X)\n",
    "    \n",
    "    Xmax = MaxPooling1D(pool_size=11)(X)\n",
    "    Xmax = Lambda(lambda x1 : x1*0.3)(Xmax)\n",
    "\n",
    "    Xavg = AvgPool1D(pool_size=11)(X)\n",
    "    Xavg = Lambda(lambda x1 : x1*0.7)(Xavg)\n",
    "\n",
    "    X = Add()([Xmax, Xavg])\n",
    "    X = Lambda(lambda y : K.squeeze(y,1))(X)\n",
    "    \n",
    "    X = Dense(96, activation=\"relu\")(X)\n",
    "    X = BatchNormalization()(X)\n",
    "\n",
    "    X = Dense(256, activation=\"relu\")(X)\n",
    "    X = LayerNormalization()(X)\n",
    "    X = Dropout(0.3)(X)\n",
    "\n",
    "    outsoft = Dense(num_classes_y, activation='softmax', name = \"output\")(X)\n",
    "\n",
    "    model = Model(inputs = [inputdense_players], outputs = outsoft)\n",
    "    return model"
   ]
  },
  {
   "cell_type": "code",
   "execution_count": 19,
   "metadata": {},
   "outputs": [],
   "source": [
    "def run_model(X_tensor, y_tensor, n_epochs, batch_size, lr, plot=False, data=''):\n",
    "    model = get_conv_net(num_classes_y)\n",
    "\n",
    "    opt = Adam(learning_rate=lr)\n",
    "    model.compile(loss=crps,\n",
    "                  optimizer=opt)\n",
    "\n",
    "    history = model.fit(X_tensor,\n",
    "                      y_tensor, \n",
    "                      epochs=n_epochs,\n",
    "                      batch_size=batch_size,\n",
    "                      verbose=1,\n",
    "                      validation_split=0.2)\n",
    "    if plot:\n",
    "        plot_loss(history, batch_size, lr, n_epochs, data)\n",
    "        \n",
    "    return model\n"
   ]
  },
  {
   "cell_type": "code",
   "execution_count": 20,
   "metadata": {},
   "outputs": [],
   "source": [
    "def plot_loss(history, batch_size, lr, n_epochs, data=''):\n",
    "    plt.title(f\"Learning Curve Batch Size {batch_size} Learning Rate {lr}\")\n",
    "    plt.xlabel('Epoch')\n",
    "    plt.ylabel('CRPS Loss')\n",
    "    plt.plot(history.history['loss'], label='train')\n",
    "    plt.plot(history.history['val_loss'], label='val')\n",
    "    plt.legend()\n",
    "    plt.savefig(f\"model_plots/plot_bs_{batch_size}_lr_{lr}_ep_{n_epochs}_{data}.pdf\")\n",
    "    plt.show()\n",
    "    "
   ]
  },
  {
   "cell_type": "code",
   "execution_count": 30,
   "metadata": {},
   "outputs": [
    {
     "name": "stdout",
     "output_type": "stream",
     "text": [
      "(4520, 11, 10, 10)\n",
      "(4520, 80)\n"
     ]
    }
   ],
   "source": [
    "with open('input_tensors/X_tensor_comb__train.data', 'rb') as f:\n",
    "    X_train_tensor = pickle.load(f)\n",
    "with open('input_tensors/y_tensor_comb__train.data', 'rb') as f:\n",
    "    y_train_tensor = pickle.load(f).astype('float32')\n",
    "print(X_train_tensor.shape)\n",
    "print(y_train_tensor.shape)"
   ]
  },
  {
   "cell_type": "code",
   "execution_count": null,
   "metadata": {},
   "outputs": [
    {
     "name": "stdout",
     "output_type": "stream",
     "text": [
      "Epoch 1/300\n",
      "1808/1808 [==============================] - 26s 12ms/step - loss: 0.0419 - val_loss: 0.0391\n",
      "Epoch 2/300\n",
      "1808/1808 [==============================] - 20s 11ms/step - loss: 0.0362 - val_loss: 0.0378\n",
      "Epoch 3/300\n",
      "1808/1808 [==============================] - 22s 12ms/step - loss: 0.0331 - val_loss: 0.0369\n",
      "Epoch 4/300\n",
      "1808/1808 [==============================] - 20s 11ms/step - loss: 0.0315 - val_loss: 0.0349\n",
      "Epoch 5/300\n",
      "1808/1808 [==============================] - 20s 11ms/step - loss: 0.0306 - val_loss: 0.0339\n",
      "Epoch 6/300\n",
      "1808/1808 [==============================] - 23s 13ms/step - loss: 0.0296 - val_loss: 0.0334\n",
      "Epoch 7/300\n",
      "1808/1808 [==============================] - 18s 10ms/step - loss: 0.0287 - val_loss: 0.0331\n",
      "Epoch 8/300\n",
      "1808/1808 [==============================] - 18s 10ms/step - loss: 0.0282 - val_loss: 0.0323\n",
      "Epoch 9/300\n",
      "1808/1808 [==============================] - 18s 10ms/step - loss: 0.0276 - val_loss: 0.0327\n",
      "Epoch 10/300\n",
      "1808/1808 [==============================] - 18s 10ms/step - loss: 0.0271 - val_loss: 0.0313\n",
      "Epoch 11/300\n",
      "1808/1808 [==============================] - 17s 9ms/step - loss: 0.0268 - val_loss: 0.0313\n",
      "Epoch 12/300\n",
      "1808/1808 [==============================] - 24s 13ms/step - loss: 0.0261 - val_loss: 0.0318\n",
      "Epoch 13/300\n",
      "1808/1808 [==============================] - 24s 13ms/step - loss: 0.0261 - val_loss: 0.0312\n",
      "Epoch 14/300\n",
      "1808/1808 [==============================] - 26s 15ms/step - loss: 0.0260 - val_loss: 0.0322\n",
      "Epoch 15/300\n",
      "1808/1808 [==============================] - 21s 12ms/step - loss: 0.0255 - val_loss: 0.0323\n",
      "Epoch 16/300\n",
      "1808/1808 [==============================] - 19s 11ms/step - loss: 0.0257 - val_loss: 0.0312\n",
      "Epoch 17/300\n",
      "1808/1808 [==============================] - 16s 9ms/step - loss: 0.0255 - val_loss: 0.0305\n",
      "Epoch 18/300\n",
      " 997/1808 [===============>..............] - ETA: 9s - loss: 0.0255"
     ]
    }
   ],
   "source": [
    "model = run_model(X_train_tensor, y_train_tensor, 300, 2, 1e-5, plot=True, data='comb')"
   ]
  },
  {
   "cell_type": "code",
   "execution_count": 32,
   "metadata": {},
   "outputs": [],
   "source": [
    "with open('input_tensors/X_tensor_comb_test.data', 'rb') as f:\n",
    "    X_test_tensor = pickle.load(f)\n",
    "with open('input_tensors/y_tensor_comb_test.data', 'rb') as f:\n",
    "    y_test_tensor = pickle.load(f).astype('float32')"
   ]
  },
  {
   "cell_type": "code",
   "execution_count": 33,
   "metadata": {},
   "outputs": [
    {
     "name": "stdout",
     "output_type": "stream",
     "text": [
      "503/503 [==============================] - 2s 3ms/step - loss: 0.0235\n"
     ]
    },
    {
     "data": {
      "text/plain": [
       "0.023463591933250427"
      ]
     },
     "execution_count": 33,
     "metadata": {},
     "output_type": "execute_result"
    }
   ],
   "source": [
    "model.evaluate(X_test_tensor, y_test_tensor, batch_size=1)"
   ]
  },
  {
   "cell_type": "code",
   "execution_count": null,
   "metadata": {},
   "outputs": [],
   "source": []
  },
  {
   "cell_type": "code",
   "execution_count": null,
   "metadata": {},
   "outputs": [],
   "source": []
  },
  {
   "cell_type": "code",
   "execution_count": null,
   "metadata": {},
   "outputs": [],
   "source": []
  },
  {
   "cell_type": "code",
   "execution_count": null,
   "metadata": {},
   "outputs": [],
   "source": []
  },
  {
   "cell_type": "code",
   "execution_count": null,
   "metadata": {},
   "outputs": [],
   "source": []
  },
  {
   "cell_type": "code",
   "execution_count": null,
   "metadata": {},
   "outputs": [],
   "source": []
  }
 ],
 "metadata": {
  "kernelspec": {
   "display_name": "Python 3",
   "language": "python",
   "name": "python3"
  },
  "language_info": {
   "codemirror_mode": {
    "name": "ipython",
    "version": 3
   },
   "file_extension": ".py",
   "mimetype": "text/x-python",
   "name": "python",
   "nbconvert_exporter": "python",
   "pygments_lexer": "ipython3",
   "version": "3.7.3"
  }
 },
 "nbformat": 4,
 "nbformat_minor": 4
}
