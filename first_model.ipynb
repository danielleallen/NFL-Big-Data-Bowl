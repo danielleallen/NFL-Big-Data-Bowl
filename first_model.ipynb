{
 "cells": [
  {
   "cell_type": "code",
   "execution_count": 1,
   "metadata": {},
   "outputs": [],
   "source": [
    "from tensorflow.keras.models import Model"
   ]
  },
  {
   "cell_type": "code",
   "execution_count": 3,
   "metadata": {},
   "outputs": [],
   "source": [
    "from tensorflow.keras.layers import (\n",
    "    Conv1D, Conv2D, MaxPooling1D, MaxPooling2D, AvgPool1D, AvgPool2D, Reshape,\n",
    "    Input, Activation, BatchNormalization, Dense, Add, Lambda, Dropout, LayerNormalization)\n",
    "from tensorflow.keras.optimizers import Adam\n",
    "from tensorflow.keras import backend as K\n",
    "from tensorflow.keras.callbacks import Callback, EarlyStopping\n",
    "\n",
    "import tensorflow as tf \n",
    "from sklearn.model_selection import train_test_split\n",
    "from sklearn.model_selection import KFold"
   ]
  },
  {
   "cell_type": "code",
   "execution_count": 8,
   "metadata": {},
   "outputs": [],
   "source": [
    "import numpy as np\n",
    "import pandas as pd\n",
    "import pickle"
   ]
  },
  {
   "cell_type": "code",
   "execution_count": 25,
   "metadata": {},
   "outputs": [],
   "source": [
    "import matplotlib.pyplot as plt"
   ]
  },
  {
   "cell_type": "code",
   "execution_count": 4,
   "metadata": {},
   "outputs": [],
   "source": [
    "min_idx_y = 71\n",
    "max_idx_y = 150\n",
    "num_classes_y = max_idx_y - min_idx_y + 1"
   ]
  },
  {
   "cell_type": "code",
   "execution_count": 5,
   "metadata": {},
   "outputs": [],
   "source": [
    "def crps(y_true, y_pred):\n",
    "    loss = K.mean(K.sum((K.cumsum(y_pred, axis = 1) - K.cumsum(y_true, axis=1))**2, axis=1))/199\n",
    "    return loss"
   ]
  },
  {
   "cell_type": "code",
   "execution_count": 41,
   "metadata": {},
   "outputs": [],
   "source": [
    "def get_conv_net(num_classes_y):\n",
    "    #_, x, y, z = train_x.shape\n",
    "    inputdense_players = Input(shape=(11,10,10), name = \"playersfeatures_input\")\n",
    "    \n",
    "    X = Conv2D(128, kernel_size=(1,1), strides=(1,1), activation='relu')(inputdense_players)\n",
    "    X = Conv2D(160, kernel_size=(1,1), strides=(1,1), activation='relu')(X)\n",
    "    X = Conv2D(128, kernel_size=(1,1), strides=(1,1), activation='relu')(X)\n",
    "    \n",
    "    # The second block of convolutions learns the necessary information per defense player before the aggregation.\n",
    "    # For this reason the pool_size should be (1, 10). If you want to learn per off player the pool_size must be \n",
    "    # (11, 1)\n",
    "    Xmax = MaxPooling2D(pool_size=(1,10))(X)\n",
    "    Xmax = Lambda(lambda x1 : x1*0.3)(Xmax)\n",
    "\n",
    "    Xavg = AvgPool2D(pool_size=(1,10))(X)\n",
    "    Xavg = Lambda(lambda x1 : x1*0.7)(Xavg)\n",
    "\n",
    "    X = Add()([Xmax, Xavg])\n",
    "    X = Lambda(lambda y : K.squeeze(y,2))(X)\n",
    "    X = BatchNormalization()(X)\n",
    "    \n",
    "    X = Conv1D(160, kernel_size=1, strides=1, activation='relu')(X)\n",
    "    X = BatchNormalization()(X)\n",
    "    X = Conv1D(96, kernel_size=1, strides=1, activation='relu')(X)\n",
    "    X = BatchNormalization()(X)\n",
    "    X = Conv1D(96, kernel_size=1, strides=1, activation='relu')(X)\n",
    "    X = BatchNormalization()(X)\n",
    "    \n",
    "    Xmax = MaxPooling1D(pool_size=11)(X)\n",
    "    Xmax = Lambda(lambda x1 : x1*0.3)(Xmax)\n",
    "\n",
    "    Xavg = AvgPool1D(pool_size=11)(X)\n",
    "    Xavg = Lambda(lambda x1 : x1*0.7)(Xavg)\n",
    "\n",
    "    X = Add()([Xmax, Xavg])\n",
    "    X = Lambda(lambda y : K.squeeze(y,1))(X)\n",
    "    \n",
    "    X = Dense(96, activation=\"relu\")(X)\n",
    "    X = BatchNormalization()(X)\n",
    "\n",
    "    X = Dense(256, activation=\"relu\")(X)\n",
    "    X = LayerNormalization()(X)\n",
    "    #X = Dropout(0.3)(X)\n",
    "\n",
    "    outsoft = Dense(num_classes_y, activation='softmax', name = \"output\")(X)\n",
    "\n",
    "    model = Model(inputs = [inputdense_players], outputs = outsoft)\n",
    "    return model"
   ]
  },
  {
   "cell_type": "code",
   "execution_count": 22,
   "metadata": {},
   "outputs": [],
   "source": [
    "with open('X_tensor.data', 'rb') as f:\n",
    "    X_tensor = pickle.load(f)\n",
    "with open('y_tensor.data', 'rb') as f:\n",
    "    y_tensor = pickle.load(f).astype('float32')"
   ]
  },
  {
   "cell_type": "code",
   "execution_count": 31,
   "metadata": {},
   "outputs": [],
   "source": [
    "def run_model(X_tensor, y_tensor, n_epochs, batch_size, lr):\n",
    "    model = get_conv_net(num_classes_y)\n",
    "    n_epochs = 30\n",
    "\n",
    "    opt = Adam(learning_rate=lr)\n",
    "    model.compile(loss=crps,\n",
    "                  optimizer=opt)\n",
    "\n",
    "    history = model.fit(X_tensor,\n",
    "                      y_tensor, \n",
    "                      epochs=n_epochs,\n",
    "                      batch_size=batch_size,\n",
    "                      verbose=1,\n",
    "                      validation_split=0.2)\n",
    "    return history\n"
   ]
  },
  {
   "cell_type": "code",
   "execution_count": 34,
   "metadata": {},
   "outputs": [],
   "source": [
    "def plot_loss(history, batch_size, lr):\n",
    "    plt.title(f\"Learning Curve Batch Size {batch_size} Learning Rate {lr}\")\n",
    "    plt.xlabel('Epoch')\n",
    "    plt.ylabel('Cross Entropy')\n",
    "    plt.plot(history.history['loss'], label='train')\n",
    "    plt.plot(history.history['val_loss'], label='val')\n",
    "    plt.legend()\n",
    "    plt.show()\n",
    "    "
   ]
  },
  {
   "cell_type": "code",
   "execution_count": 43,
   "metadata": {},
   "outputs": [
    {
     "name": "stdout",
     "output_type": "stream",
     "text": [
      "Epoch 1/30\n",
      "222/222 [==============================] - 6s 18ms/step - loss: 0.0240 - val_loss: 0.0341\n",
      "Epoch 2/30\n",
      "222/222 [==============================] - 4s 16ms/step - loss: 0.0219 - val_loss: 0.0219\n",
      "Epoch 3/30\n",
      "222/222 [==============================] - 4s 17ms/step - loss: 0.0210 - val_loss: 0.0213\n",
      "Epoch 4/30\n",
      "222/222 [==============================] - 4s 16ms/step - loss: 0.0212 - val_loss: 0.0211\n",
      "Epoch 5/30\n",
      "222/222 [==============================] - 4s 17ms/step - loss: 0.0209 - val_loss: 0.0330\n",
      "Epoch 6/30\n",
      "222/222 [==============================] - 4s 18ms/step - loss: 0.0208 - val_loss: 0.0236\n",
      "Epoch 7/30\n",
      "222/222 [==============================] - 4s 17ms/step - loss: 0.0208 - val_loss: 0.0201\n",
      "Epoch 8/30\n",
      "222/222 [==============================] - 4s 18ms/step - loss: 0.0203 - val_loss: 0.0235\n",
      "Epoch 9/30\n",
      "222/222 [==============================] - 4s 17ms/step - loss: 0.0202 - val_loss: 0.0210\n",
      "Epoch 10/30\n",
      "222/222 [==============================] - 4s 17ms/step - loss: 0.0204 - val_loss: 0.0214\n",
      "Epoch 11/30\n",
      "222/222 [==============================] - 5s 23ms/step - loss: 0.0203 - val_loss: 0.0284\n",
      "Epoch 12/30\n",
      "222/222 [==============================] - 4s 16ms/step - loss: 0.0203 - val_loss: 0.0247\n",
      "Epoch 13/30\n",
      "222/222 [==============================] - 3s 15ms/step - loss: 0.0201 - val_loss: 0.0268\n",
      "Epoch 14/30\n",
      "222/222 [==============================] - 4s 20ms/step - loss: 0.0202 - val_loss: 0.0360\n",
      "Epoch 15/30\n",
      "222/222 [==============================] - 5s 22ms/step - loss: 0.0201 - val_loss: 0.0313\n",
      "Epoch 16/30\n",
      "222/222 [==============================] - 5s 22ms/step - loss: 0.0200 - val_loss: 0.0201\n",
      "Epoch 17/30\n",
      "222/222 [==============================] - 4s 18ms/step - loss: 0.0201 - val_loss: 0.0366\n",
      "Epoch 18/30\n",
      "222/222 [==============================] - 3s 16ms/step - loss: 0.0202 - val_loss: 0.0222\n",
      "Epoch 19/30\n",
      "222/222 [==============================] - 3s 15ms/step - loss: 0.0199 - val_loss: 0.0523\n",
      "Epoch 20/30\n",
      "222/222 [==============================] - 5s 21ms/step - loss: 0.0199 - val_loss: 0.0214\n",
      "Epoch 21/30\n",
      "222/222 [==============================] - 4s 17ms/step - loss: 0.0198 - val_loss: 0.0229\n",
      "Epoch 22/30\n",
      "222/222 [==============================] - 5s 24ms/step - loss: 0.0199 - val_loss: 0.0363\n",
      "Epoch 23/30\n",
      "222/222 [==============================] - 3s 16ms/step - loss: 0.0198 - val_loss: 0.0221\n",
      "Epoch 24/30\n",
      "222/222 [==============================] - 3s 15ms/step - loss: 0.0202 - val_loss: 0.0217\n",
      "Epoch 25/30\n",
      "222/222 [==============================] - 4s 20ms/step - loss: 0.0198 - val_loss: 0.0239\n",
      "Epoch 26/30\n",
      "222/222 [==============================] - 6s 26ms/step - loss: 0.0195 - val_loss: 0.0208\n",
      "Epoch 27/30\n",
      "222/222 [==============================] - 4s 20ms/step - loss: 0.0194 - val_loss: 0.0211\n",
      "Epoch 28/30\n",
      "222/222 [==============================] - 4s 18ms/step - loss: 0.0196 - val_loss: 0.0261\n",
      "Epoch 29/30\n",
      "222/222 [==============================] - 5s 21ms/step - loss: 0.0196 - val_loss: 0.0220\n",
      "Epoch 30/30\n",
      "222/222 [==============================] - 3s 15ms/step - loss: 0.0197 - val_loss: 0.0206\n"
     ]
    }
   ],
   "source": [
    "history_lr001_b10 = run_model(X_tensor, y_tensor, 30, 10, 0.001)"
   ]
  },
  {
   "cell_type": "code",
   "execution_count": null,
   "metadata": {},
   "outputs": [],
   "source": []
  },
  {
   "cell_type": "code",
   "execution_count": null,
   "metadata": {},
   "outputs": [],
   "source": []
  },
  {
   "cell_type": "code",
   "execution_count": null,
   "metadata": {},
   "outputs": [],
   "source": []
  },
  {
   "cell_type": "code",
   "execution_count": null,
   "metadata": {},
   "outputs": [],
   "source": []
  },
  {
   "cell_type": "code",
   "execution_count": null,
   "metadata": {},
   "outputs": [],
   "source": []
  },
  {
   "cell_type": "code",
   "execution_count": null,
   "metadata": {},
   "outputs": [],
   "source": []
  },
  {
   "cell_type": "code",
   "execution_count": null,
   "metadata": {},
   "outputs": [],
   "source": []
  },
  {
   "cell_type": "code",
   "execution_count": null,
   "metadata": {},
   "outputs": [],
   "source": [
    "history_lr001_e30 = run_model(X_tensor, y_tensor, 30, 64, 1e-3)"
   ]
  },
  {
   "cell_type": "code",
   "execution_count": 35,
   "metadata": {},
   "outputs": [
    {
     "data": {
      "image/png": "[encoded data removed]",
      "text/plain": [
       "<Figure size 432x288 with 1 Axes>"
      ]
     },
     "metadata": {
      "needs_background": "light"
     },
     "output_type": "display_data"
    }
   ],
   "source": [
    "plot_loss(history_lr001_e30, 30, 64)"
   ]
  },
  {
   "cell_type": "code",
   "execution_count": null,
   "metadata": {},
   "outputs": [],
   "source": [
    "history_lr001_b10 = run_model(X_tensor, y_tensor, 30, 10, 1e-3)"
   ]
  },
  {
   "cell_type": "code",
   "execution_count": 37,
   "metadata": {},
   "outputs": [
    {
     "data": {
      "image/png": "[encoded data removed]",
      "text/plain": [
       "<Figure size 432x288 with 1 Axes>"
      ]
     },
     "metadata": {
      "needs_background": "light"
     },
     "output_type": "display_data"
    }
   ],
   "source": [
    "plot_loss(history_lr001_b10, 10, 0.001)"
   ]
  },
  {
   "cell_type": "code",
   "execution_count": null,
   "metadata": {},
   "outputs": [],
   "source": []
  }
 ],
 "metadata": {
  "kernelspec": {
   "display_name": "Python 3",
   "language": "python",
   "name": "python3"
  },
  "language_info": {
   "codemirror_mode": {
    "name": "ipython",
    "version": 3
   },
   "file_extension": ".py",
   "mimetype": "text/x-python",
   "name": "python",
   "nbconvert_exporter": "python",
   "pygments_lexer": "ipython3",
   "version": "3.7.3"
  }
 },
 "nbformat": 4,
 "nbformat_minor": 4
}
