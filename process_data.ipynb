{
 "cells": [
  {
   "cell_type": "code",
   "execution_count": 20,
   "metadata": {},
   "outputs": [],
   "source": [
    "import pandas as pd\n",
    "import numpy as np\n",
    "import math\n",
    "import pickle"
   ]
  },
  {
   "cell_type": "code",
   "execution_count": 3,
   "metadata": {},
   "outputs": [],
   "source": [
    "df_track_2020 = pd.read_csv(\"data_sets/tracking2020.csv\")\n",
    "df_track_2019 = pd.read_csv(\"data_sets/tracking2019.csv\")\n",
    "df_track_2018 = pd.read_csv(\"data_sets/tracking2018.csv\")"
   ]
  },
  {
   "cell_type": "code",
   "execution_count": 4,
   "metadata": {},
   "outputs": [],
   "source": [
    "df_games = pd.read_csv(\"data_sets/games.csv\")\n",
    "df_plays = pd.read_csv(\"data_sets/plays.csv\")"
   ]
  },
  {
   "cell_type": "code",
   "execution_count": 53,
   "metadata": {},
   "outputs": [],
   "source": [
    "def process_play_data(df_plays):\n",
    "    kick_plays_df = df_plays[(df_plays[\"specialTeamsPlayType\"] == \"Kickoff\") & (df_plays[\"specialTeamsResult\"] == \"Return\")]\n",
    "    kick_plays_df = kick_plays_df[[\"gameId\", \"playId\", \"possessionTeam\", \"returnerId\", \"kickReturnYardage\"]]  \n",
    "    # Get rid of onside kicks\n",
    "    kick_plays_df.dropna(axis=0, how='any', subset=['returnerId'], inplace=True)  \n",
    "    # Get rid of kicks with multiple returners\n",
    "    kick_plays_df.drop(kick_plays_df[kick_plays_df['returnerId'].str.contains(';')].index, inplace = True)  \n",
    "    kick_plays_df[\"returnerId\"] = kick_plays_df[\"returnerId\"].astype('int')\n",
    "    # Get rid of kicks with no return yards listed\n",
    "    kick_plays_df.dropna(axis=0, how='any', subset=['kickReturnYardage'], inplace=True) \n",
    "    \n",
    "    return kick_plays_df\n",
    "    "
   ]
  },
  {
   "cell_type": "code",
   "execution_count": 54,
   "metadata": {},
   "outputs": [],
   "source": [
    "def process_tracking_data(df_track_2018, df_track_2019, df_track_2020):\n",
    "    tracking_df = pd.concat([df_track_2018, df_track_2019, df_track_2020])\n",
    "    tracking_df = tracking_df[tracking_df[\"event\"] == \"kick_received\"]\n",
    "    # Get rid of tracking data on football\n",
    "    tracking_df.drop(tracking_df[tracking_df['team'] == \"football\"].index, inplace = True) \n",
    "    \n",
    "    tracking_df['dir'] = np.mod(90 - tracking_df['dir'], 360)  # Change 0 degrees to be pointing downfield\n",
    "    standardize_tracking_data(tracking_df)\n",
    "    add_velocity_vectors_tracking_data(tracking_df)\n",
    "    \n",
    "    tracking_df[\"nflId\"] = tracking_df[\"nflId\"].astype('int')\n",
    "    tracking_df = tracking_df[['gameId','playId','nflId','team', 'x', 'y', 'v_x', 'v_y']]\n",
    "        \n",
    "    return tracking_df"
   ]
  },
  {
   "cell_type": "code",
   "execution_count": 55,
   "metadata": {},
   "outputs": [],
   "source": [
    "def process_game_data(df_games):\n",
    "    df_games_slim = df_games[['gameId', 'homeTeamAbbr', 'visitorTeamAbbr']]\n",
    "    return df_games_slim"
   ]
  },
  {
   "cell_type": "code",
   "execution_count": 56,
   "metadata": {},
   "outputs": [],
   "source": [
    "def standardize_tracking_data(df_tracking):\n",
    "    # We always want the returning team to be going from left to right\n",
    "    df_tracking.loc[df_tracking['playDirection'] == \"right\", 'x'] = 120-df_tracking.loc[df_tracking['playDirection'] == \"right\", 'x']\n",
    "    df_tracking.loc[df_tracking['playDirection'] == \"right\", 'y'] = 160/3-df_tracking.loc[df_tracking['playDirection'] == \"right\", 'y']\n",
    "    df_tracking.loc[df_tracking['playDirection'] == \"right\", 'dir'] = np.mod(180 + df_tracking.loc[df_tracking['playDirection'] == \"right\", 'dir'], 360)\n",
    "    \n",
    "    "
   ]
  },
  {
   "cell_type": "code",
   "execution_count": 57,
   "metadata": {},
   "outputs": [],
   "source": [
    "def add_velocity_vectors_tracking_data(df_tracking):\n",
    "    df_tracking[\"v_x\"] = df_tracking[\"s\"] * df_tracking[\"dir\"].apply(math.radians).apply(math.cos)\n",
    "    df_tracking[\"v_y\"] = df_tracking[\"s\"] * df_tracking[\"dir\"].apply(math.radians).apply(math.sin)"
   ]
  },
  {
   "cell_type": "code",
   "execution_count": 58,
   "metadata": {},
   "outputs": [],
   "source": [
    "def merge_tables(df_games, df_kick_plays, df_tracking):\n",
    "    game_play_merge = pd.merge(df_games, df_kick_plays, how='inner')\n",
    "    all_merge = pd.merge(game_play_merge, df_tracking, how='inner')\n",
    "    return all_merge"
   ]
  },
  {
   "cell_type": "code",
   "execution_count": 59,
   "metadata": {},
   "outputs": [],
   "source": [
    "def add_player_side(play_track_df):\n",
    "    play_track_df[\"team_abbr\"] = np.where(play_track_df[\"team\"] == \"home\", play_track_df[\"homeTeamAbbr\"], play_track_df[\"visitorTeamAbbr\"])\n",
    "    play_track_df[\"player_side\"] = np.where(play_track_df[\"team_abbr\"] == play_track_df[\"possessionTeam\"], \"kicking_team\", \"return_team\")\n",
    "    play_track_df[\"player_side\"] = np.where(play_track_df[\"returnerId\"] == play_track_df[\"nflId\"], \"returner\", play_track_df[\"player_side\"])\n",
    "    "
   ]
  },
  {
   "cell_type": "code",
   "execution_count": 60,
   "metadata": {},
   "outputs": [],
   "source": [
    "def process_data(df_track_2018, df_track_2019, df_track_2020, df_games, df_plays):\n",
    "    kick_plays_df = process_play_data(df_plays)\n",
    "    df_games_slim = process_game_data(df_games)\n",
    "    tracking_df = process_tracking_data(df_track_2018, df_track_2019, df_track_2020)    \n",
    "    play_track_df = merge_tables(df_games_slim, kick_plays_df, tracking_df)\n",
    "    add_player_side(play_track_df)\n",
    "    \n",
    "    # Get rid of plays where there was not 22 players on field\n",
    "    grouped_df = play_track_df.groupby([\"gameId\", \"playId\"]) \n",
    "    play_track_df = grouped_df.filter(lambda x: x['nflId'].count() == 22)\n",
    "    \n",
    "    return play_track_df\n",
    "    "
   ]
  },
  {
   "cell_type": "markdown",
   "metadata": {},
   "source": [
    "### Convert Data Frames to Model Inputs"
   ]
  },
  {
   "cell_type": "code",
   "execution_count": 61,
   "metadata": {},
   "outputs": [],
   "source": [
    "def create_X_tensor(play_track_df):     \n",
    "    grouped_df = play_track_df.groupby([\"gameId\", \"playId\"])\n",
    "    print(len(grouped_df))\n",
    "    train_x = np.zeros([len(grouped_df),11,10,10])\n",
    "    \n",
    "    i = 0\n",
    "    for name, group in grouped_df:\n",
    "        [[returner_x, returner_y, returner_Vx, returner_Vy]] = group.loc[group.player_side==\"returner\",['x', 'y','v_x','v_y']].values\n",
    "\n",
    "        kick_team_ids = group[group.player_side == \"kicking_team\"].index\n",
    "        return_team_ids = group[group.player_side == \"return_team\"].index\n",
    "\n",
    "        for j, kick_team_id in enumerate(kick_team_ids):\n",
    "            [kick_team_x, kick_team_y, kick_team_Vx, kick_team_Vy] = group.loc[kick_team_id,['x', 'y','v_x','v_y']].values\n",
    "\n",
    "            [kick_team_returner_x, kick_team_returner_y] = group.loc[kick_team_id,['x', 'y']].values - np.array([returner_x, returner_y])\n",
    "            [kick_team_returner_Vx, kick_team_returner_Vy] = group.loc[kick_team_id,['v_x', 'v_y']].values - np.array([returner_Vx, returner_Vy])\n",
    "\n",
    "            train_x[i,j,:,:4] = group.loc[return_team_ids,['v_x','v_y','x', 'y']].values - np.array([kick_team_x, kick_team_y, kick_team_Vx, kick_team_Vy])\n",
    "            train_x[i,j,:,-6:] = [kick_team_returner_Vx, kick_team_returner_Vy, kick_team_returner_x, kick_team_returner_y, kick_team_Vx, kick_team_Vy]\n",
    "        i += 1\n",
    "    \n",
    "    return train_x\n",
    "    \n",
    "    \n",
    "    "
   ]
  },
  {
   "cell_type": "code",
   "execution_count": 62,
   "metadata": {},
   "outputs": [],
   "source": [
    "def create_y_train(play_track_df):\n",
    "    min_idx_y = 71\n",
    "    max_idx_y = 150\n",
    "    \n",
    "    train_y = play_track_df.groupby([\"gameId\", \"playId\"])[\"kickReturnYardage\"].mean()\n",
    "    train_y = train_y.to_frame()\n",
    "    train_y.reset_index(level=[\"gameId\", \"playId\"], inplace=True)\n",
    "    \n",
    "    train_y['YardIndex'] = train_y[\"kickReturnYardage\"].apply(lambda val: val + 99)\n",
    "    train_y['YardIndexClipped'] = train_y['YardIndex'].apply(\n",
    "        lambda val: min_idx_y if val < min_idx_y else max_idx_y if val > max_idx_y else val)\n",
    "    \n",
    "    print('max yardIndex: ', train_y.YardIndex.max())\n",
    "    print('max yardIndexClipped: ', train_y.YardIndexClipped.max())\n",
    "    print('min yardIndex: ', train_y.YardIndex.min())\n",
    "    print('min yardIndexClipped: ', train_y.YardIndexClipped.min())\n",
    "    \n",
    "    return train_y\n",
    "    "
   ]
  },
  {
   "cell_type": "code",
   "execution_count": 69,
   "metadata": {},
   "outputs": [],
   "source": [
    "def create_y_tensor(train_y, min_idx_y, max_idx_y):\n",
    "    num_classes_y = max_idx_y - min_idx_y + 1\n",
    "    y_vals = train_y[\"YardIndexClipped\"].values\n",
    "    y_tensor = np.zeros((len(y_vals), num_classes_y), np.int32)\n",
    "    for i, yards in enumerate(y_vals):\n",
    "        y_tensor[(i, yards.astype(np.int32) - min_idx_y)] = 1\n",
    "    \n",
    "    return y_tensor"
   ]
  },
  {
   "cell_type": "code",
   "execution_count": 71,
   "metadata": {},
   "outputs": [],
   "source": [
    "y_tensor = create_y_tensor(train_y, 71, 150)"
   ]
  },
  {
   "cell_type": "code",
   "execution_count": 73,
   "metadata": {},
   "outputs": [
    {
     "data": {
      "text/plain": [
       "(2764, 80)"
      ]
     },
     "execution_count": 73,
     "metadata": {},
     "output_type": "execute_result"
    }
   ],
   "source": [
    "y_tensor.shape"
   ]
  },
  {
   "cell_type": "code",
   "execution_count": 64,
   "metadata": {},
   "outputs": [],
   "source": [
    "play_track_df = process_data(df_track_2018, df_track_2019, df_track_2020, df_games, df_plays)"
   ]
  },
  {
   "cell_type": "code",
   "execution_count": 65,
   "metadata": {},
   "outputs": [
    {
     "name": "stdout",
     "output_type": "stream",
     "text": [
      "2764\n"
     ]
    }
   ],
   "source": [
    "X_tensor = create_X_tensor(play_track_df)"
   ]
  },
  {
   "cell_type": "code",
   "execution_count": 66,
   "metadata": {},
   "outputs": [
    {
     "data": {
      "text/plain": [
       "(2764, 11, 10, 10)"
      ]
     },
     "execution_count": 66,
     "metadata": {},
     "output_type": "execute_result"
    }
   ],
   "source": [
    "X_tensor.shape"
   ]
  },
  {
   "cell_type": "code",
   "execution_count": 67,
   "metadata": {},
   "outputs": [
    {
     "name": "stdout",
     "output_type": "stream",
     "text": [
      "max yardIndex:  203.0\n",
      "max yardIndexClipped:  150.0\n",
      "min yardIndex:  85.0\n",
      "min yardIndexClipped:  85.0\n"
     ]
    }
   ],
   "source": [
    "train_y = create_y_train(play_track_df)"
   ]
  },
  {
   "cell_type": "code",
   "execution_count": null,
   "metadata": {},
   "outputs": [],
   "source": [
    "play_track_df.head(25)"
   ]
  },
  {
   "cell_type": "code",
   "execution_count": 19,
   "metadata": {},
   "outputs": [],
   "source": [
    "train_y.to_pickle(\"train_y_df.data\")"
   ]
  },
  {
   "cell_type": "code",
   "execution_count": 74,
   "metadata": {},
   "outputs": [],
   "source": [
    "with open('X_tensor.data', 'wb') as f:\n",
    "    pickle.dump(X_tensor, f)\n",
    "with open('y_tensor.data', 'wb') as f:\n",
    "    pickle.dump(y_tensor, f)"
   ]
  },
  {
   "cell_type": "code",
   "execution_count": null,
   "metadata": {},
   "outputs": [],
   "source": []
  }
 ],
 "metadata": {
  "kernelspec": {
   "display_name": "Python 3",
   "language": "python",
   "name": "python3"
  },
  "language_info": {
   "codemirror_mode": {
    "name": "ipython",
    "version": 3
   },
   "file_extension": ".py",
   "mimetype": "text/x-python",
   "name": "python",
   "nbconvert_exporter": "python",
   "pygments_lexer": "ipython3",
   "version": "3.7.3"
  }
 },
 "nbformat": 4,
 "nbformat_minor": 4
}
